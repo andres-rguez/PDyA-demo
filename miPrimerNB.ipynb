{
 "cells": [
  {
   "cell_type": "markdown",
   "id": "381dda25-2c89-4d36-8ede-b488cc2e7498",
   "metadata": {},
   "source": [
    "# Mi primer Notebook\n",
    "\n",
    "Esta es una prueba fácil.\n",
    "\n",
    "Empecemos con una suma: ¿cuánto es 1+1?"
   ]
  },
  {
   "cell_type": "code",
   "execution_count": 1,
   "id": "34cffefc-a1a9-4c87-9e4e-dfe8001d66ce",
   "metadata": {},
   "outputs": [
    {
     "data": {
      "text/plain": [
       "2"
      ]
     },
     "execution_count": 1,
     "metadata": {},
     "output_type": "execute_result"
    }
   ],
   "source": [
    "1 + 1"
   ]
  },
  {
   "cell_type": "code",
   "execution_count": null,
   "id": "6bb1bd64-6582-4d12-9114-7b1d1d9ed318",
   "metadata": {},
   "outputs": [],
   "source": []
  }
 ],
 "metadata": {
  "kernelspec": {
   "display_name": "Python 3 (ipykernel)",
   "language": "python",
   "name": "python3"
  },
  "language_info": {
   "codemirror_mode": {
    "name": "ipython",
    "version": 3
   },
   "file_extension": ".py",
   "mimetype": "text/x-python",
   "name": "python",
   "nbconvert_exporter": "python",
   "pygments_lexer": "ipython3",
   "version": "3.12.7"
  }
 },
 "nbformat": 4,
 "nbformat_minor": 5
}
